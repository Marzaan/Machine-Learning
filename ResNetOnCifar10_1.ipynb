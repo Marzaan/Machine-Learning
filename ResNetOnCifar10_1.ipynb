{
 "cells": [
  {
   "cell_type": "code",
   "execution_count": 1,
   "metadata": {
    "_cell_guid": "b1076dfc-b9ad-4769-8c92-a6c4dae69d19",
    "_uuid": "8f2839f25d086af736a60e9eeb907d3b93b6e0e5"
   },
   "outputs": [
    {
     "name": "stderr",
     "output_type": "stream",
     "text": [
      "Using TensorFlow backend.\n"
     ]
    }
   ],
   "source": [
    "import keras\n",
    "from keras.layers import Dense, Conv2D, BatchNormalization, Activation\n",
    "from keras.layers import AveragePooling2D, Input, Flatten\n",
    "from keras.optimizers import Adam\n",
    "from keras.callbacks import ModelCheckpoint, LearningRateScheduler\n",
    "from keras.callbacks import ReduceLROnPlateau\n",
    "from keras.preprocessing.image import ImageDataGenerator\n",
    "from keras.regularizers import l2\n",
    "from keras import backend as K\n",
    "from keras.models import Model\n",
    "from keras.datasets import cifar10\n",
    "from keras.utils import to_categorical\n",
    "import numpy as np\n",
    "import os"
   ]
  },
  {
   "cell_type": "code",
   "execution_count": 2,
   "metadata": {
    "_cell_guid": "79c7e3d0-c299-4dcb-8224-4455121ee9b0",
    "_uuid": "d629ff2d2480ee46fbb7e2d37f6b5fab8052498a"
   },
   "outputs": [],
   "source": [
    "# Training parameters\n",
    "batch_size = 32\n",
    "epochs = 100\n",
    "num_classes = 10"
   ]
  },
  {
   "cell_type": "code",
   "execution_count": 3,
   "metadata": {},
   "outputs": [
    {
     "name": "stdout",
     "output_type": "stream",
     "text": [
      "Downloading data from https://www.cs.toronto.edu/~kriz/cifar-10-python.tar.gz\n",
      "170500096/170498071 [==============================] - 6s 0us/step\n"
     ]
    }
   ],
   "source": [
    "# Load the CIFAR10 data.\n",
    "(x_train, y_train), (x_test, y_test) = cifar10.load_data()"
   ]
  },
  {
   "cell_type": "code",
   "execution_count": 4,
   "metadata": {},
   "outputs": [
    {
     "data": {
      "text/plain": [
       "(32, 32, 3)"
      ]
     },
     "execution_count": 4,
     "metadata": {},
     "output_type": "execute_result"
    }
   ],
   "source": [
    "# Input image dimensions.\n",
    "input_shape = x_train.shape[1:]\n",
    "input_shape"
   ]
  },
  {
   "cell_type": "code",
   "execution_count": 5,
   "metadata": {},
   "outputs": [],
   "source": [
    "# Normalize data.\n",
    "x_train = x_train.astype('float32') / 255\n",
    "x_test = x_test.astype('float32') / 255"
   ]
  },
  {
   "cell_type": "code",
   "execution_count": 6,
   "metadata": {},
   "outputs": [],
   "source": [
    "# Subtracting pixel mean improves accuracy\n",
    "x_train_mean = np.mean(x_train, axis=0)\n",
    "x_train -= x_train_mean\n",
    "x_test -= x_train_mean"
   ]
  },
  {
   "cell_type": "code",
   "execution_count": 7,
   "metadata": {},
   "outputs": [
    {
     "name": "stdout",
     "output_type": "stream",
     "text": [
      "x_train shape: (50000, 32, 32, 3)\n",
      "50000 train samples\n",
      "10000 test samples\n",
      "y_train shape: (50000, 1)\n"
     ]
    }
   ],
   "source": [
    "print('x_train shape:', x_train.shape)\n",
    "print(x_train.shape[0], 'train samples')\n",
    "print(x_test.shape[0], 'test samples')\n",
    "print('y_train shape:', y_train.shape)"
   ]
  },
  {
   "cell_type": "code",
   "execution_count": 8,
   "metadata": {},
   "outputs": [],
   "source": [
    "# Convert class vectors to binary class matrices.\n",
    "y_train = to_categorical(y_train, num_classes)\n",
    "y_test = to_categorical(y_test, num_classes)"
   ]
  },
  {
   "cell_type": "code",
   "execution_count": 9,
   "metadata": {},
   "outputs": [],
   "source": [
    "def resnet_layer(inputs,\n",
    "                 num_filters=16,\n",
    "                 kernel_size=3,\n",
    "                 strides=1,\n",
    "                 activation='relu',\n",
    "                 batch_normalization=True,\n",
    "                 conv_first=True):\n",
    "    \n",
    "    conv = Conv2D(num_filters,\n",
    "                  kernel_size=kernel_size,\n",
    "                  strides=strides,\n",
    "                  padding='same',\n",
    "                  kernel_initializer='he_normal',\n",
    "                  kernel_regularizer=l2(1e-4))\n",
    "\n",
    "    x = inputs\n",
    "    if conv_first:\n",
    "        x = conv(x)\n",
    "        if batch_normalization:\n",
    "            x = BatchNormalization()(x)\n",
    "        if activation is not None:\n",
    "            x = Activation(activation)(x)\n",
    "    else:\n",
    "        if batch_normalization:\n",
    "            x = BatchNormalization()(x)\n",
    "        if activation is not None:\n",
    "            x = Activation(activation)(x)\n",
    "        x = conv(x)\n",
    "    return x"
   ]
  },
  {
   "cell_type": "code",
   "execution_count": 10,
   "metadata": {},
   "outputs": [],
   "source": [
    "n = 3\n",
    "depth = n * 6 + 2"
   ]
  },
  {
   "cell_type": "code",
   "execution_count": 11,
   "metadata": {},
   "outputs": [],
   "source": [
    "def resnet(input_shape, depth, num_classes=10):\n",
    "    # Start model definition.\n",
    "    num_filters = 16\n",
    "    num_res_blocks = int((depth - 2) / 6)\n",
    "\n",
    "    inputs = Input(shape=input_shape)\n",
    "    x = resnet_layer(inputs=inputs)\n",
    "    # Instantiate the stack of residual units\n",
    "    for stack in range(3):\n",
    "        for res_block in range(num_res_blocks):\n",
    "            strides = 1\n",
    "            if stack > 0 and res_block == 0:  # first layer but not first stack\n",
    "                strides = 2  # downsample\n",
    "            y = resnet_layer(inputs=x,\n",
    "                             num_filters=num_filters,\n",
    "                             strides=strides)\n",
    "            y = resnet_layer(inputs=y,\n",
    "                             num_filters=num_filters,\n",
    "                             activation=None)\n",
    "            if stack > 0 and res_block == 0:  # first layer but not first stack\n",
    "                # linear projection residual shortcut connection to match\n",
    "                # changed dims\n",
    "                x = resnet_layer(inputs=x,\n",
    "                                 num_filters=num_filters,\n",
    "                                 kernel_size=1,\n",
    "                                 strides=strides,\n",
    "                                 activation=None,\n",
    "                                 batch_normalization=False)\n",
    "            x = keras.layers.add([x, y])\n",
    "            x = Activation('relu')(x)\n",
    "        num_filters *= 2\n",
    "\n",
    "    # Add classifier on top.\n",
    "    # v1 does not use BN after last shortcut connection-ReLU\n",
    "    x = AveragePooling2D(pool_size=8)(x)\n",
    "    y = Flatten()(x)\n",
    "    outputs = Dense(num_classes,\n",
    "                    activation='softmax',\n",
    "                    kernel_initializer='he_normal')(y)\n",
    "\n",
    "    # Instantiate model.\n",
    "    model = Model(inputs=inputs, outputs=outputs)\n",
    "    return model"
   ]
  },
  {
   "cell_type": "code",
   "execution_count": 12,
   "metadata": {},
   "outputs": [],
   "source": [
    "def lr_schedule(epoch):\n",
    "    lr = 1e-3\n",
    "    if epoch > 80:\n",
    "        lr *= 1e-1\n",
    "    return lr"
   ]
  },
  {
   "cell_type": "markdown",
   "metadata": {},
   "source": [
    "# Compile the Model"
   ]
  },
  {
   "cell_type": "code",
   "execution_count": 13,
   "metadata": {},
   "outputs": [],
   "source": [
    "model = resnet(input_shape=input_shape, depth=depth)\n",
    "model.compile(loss='categorical_crossentropy',\n",
    "              optimizer=Adam(lr_schedule(0)),\n",
    "              metrics=['accuracy'])"
   ]
  },
  {
   "cell_type": "code",
   "execution_count": 14,
   "metadata": {},
   "outputs": [
    {
     "name": "stdout",
     "output_type": "stream",
     "text": [
      "Model: \"model_1\"\n",
      "__________________________________________________________________________________________________\n",
      "Layer (type)                    Output Shape         Param #     Connected to                     \n",
      "==================================================================================================\n",
      "input_1 (InputLayer)            (None, 32, 32, 3)    0                                            \n",
      "__________________________________________________________________________________________________\n",
      "conv2d_1 (Conv2D)               (None, 32, 32, 16)   448         input_1[0][0]                    \n",
      "__________________________________________________________________________________________________\n",
      "batch_normalization_1 (BatchNor (None, 32, 32, 16)   64          conv2d_1[0][0]                   \n",
      "__________________________________________________________________________________________________\n",
      "activation_1 (Activation)       (None, 32, 32, 16)   0           batch_normalization_1[0][0]      \n",
      "__________________________________________________________________________________________________\n",
      "conv2d_2 (Conv2D)               (None, 32, 32, 16)   2320        activation_1[0][0]               \n",
      "__________________________________________________________________________________________________\n",
      "batch_normalization_2 (BatchNor (None, 32, 32, 16)   64          conv2d_2[0][0]                   \n",
      "__________________________________________________________________________________________________\n",
      "activation_2 (Activation)       (None, 32, 32, 16)   0           batch_normalization_2[0][0]      \n",
      "__________________________________________________________________________________________________\n",
      "conv2d_3 (Conv2D)               (None, 32, 32, 16)   2320        activation_2[0][0]               \n",
      "__________________________________________________________________________________________________\n",
      "batch_normalization_3 (BatchNor (None, 32, 32, 16)   64          conv2d_3[0][0]                   \n",
      "__________________________________________________________________________________________________\n",
      "add_1 (Add)                     (None, 32, 32, 16)   0           activation_1[0][0]               \n",
      "                                                                 batch_normalization_3[0][0]      \n",
      "__________________________________________________________________________________________________\n",
      "activation_3 (Activation)       (None, 32, 32, 16)   0           add_1[0][0]                      \n",
      "__________________________________________________________________________________________________\n",
      "conv2d_4 (Conv2D)               (None, 32, 32, 16)   2320        activation_3[0][0]               \n",
      "__________________________________________________________________________________________________\n",
      "batch_normalization_4 (BatchNor (None, 32, 32, 16)   64          conv2d_4[0][0]                   \n",
      "__________________________________________________________________________________________________\n",
      "activation_4 (Activation)       (None, 32, 32, 16)   0           batch_normalization_4[0][0]      \n",
      "__________________________________________________________________________________________________\n",
      "conv2d_5 (Conv2D)               (None, 32, 32, 16)   2320        activation_4[0][0]               \n",
      "__________________________________________________________________________________________________\n",
      "batch_normalization_5 (BatchNor (None, 32, 32, 16)   64          conv2d_5[0][0]                   \n",
      "__________________________________________________________________________________________________\n",
      "add_2 (Add)                     (None, 32, 32, 16)   0           activation_3[0][0]               \n",
      "                                                                 batch_normalization_5[0][0]      \n",
      "__________________________________________________________________________________________________\n",
      "activation_5 (Activation)       (None, 32, 32, 16)   0           add_2[0][0]                      \n",
      "__________________________________________________________________________________________________\n",
      "conv2d_6 (Conv2D)               (None, 32, 32, 16)   2320        activation_5[0][0]               \n",
      "__________________________________________________________________________________________________\n",
      "batch_normalization_6 (BatchNor (None, 32, 32, 16)   64          conv2d_6[0][0]                   \n",
      "__________________________________________________________________________________________________\n",
      "activation_6 (Activation)       (None, 32, 32, 16)   0           batch_normalization_6[0][0]      \n",
      "__________________________________________________________________________________________________\n",
      "conv2d_7 (Conv2D)               (None, 32, 32, 16)   2320        activation_6[0][0]               \n",
      "__________________________________________________________________________________________________\n",
      "batch_normalization_7 (BatchNor (None, 32, 32, 16)   64          conv2d_7[0][0]                   \n",
      "__________________________________________________________________________________________________\n",
      "add_3 (Add)                     (None, 32, 32, 16)   0           activation_5[0][0]               \n",
      "                                                                 batch_normalization_7[0][0]      \n",
      "__________________________________________________________________________________________________\n",
      "activation_7 (Activation)       (None, 32, 32, 16)   0           add_3[0][0]                      \n",
      "__________________________________________________________________________________________________\n",
      "conv2d_8 (Conv2D)               (None, 16, 16, 32)   4640        activation_7[0][0]               \n",
      "__________________________________________________________________________________________________\n",
      "batch_normalization_8 (BatchNor (None, 16, 16, 32)   128         conv2d_8[0][0]                   \n",
      "__________________________________________________________________________________________________\n",
      "activation_8 (Activation)       (None, 16, 16, 32)   0           batch_normalization_8[0][0]      \n",
      "__________________________________________________________________________________________________\n",
      "conv2d_9 (Conv2D)               (None, 16, 16, 32)   9248        activation_8[0][0]               \n",
      "__________________________________________________________________________________________________\n",
      "conv2d_10 (Conv2D)              (None, 16, 16, 32)   544         activation_7[0][0]               \n",
      "__________________________________________________________________________________________________\n",
      "batch_normalization_9 (BatchNor (None, 16, 16, 32)   128         conv2d_9[0][0]                   \n",
      "__________________________________________________________________________________________________\n",
      "add_4 (Add)                     (None, 16, 16, 32)   0           conv2d_10[0][0]                  \n",
      "                                                                 batch_normalization_9[0][0]      \n",
      "__________________________________________________________________________________________________\n",
      "activation_9 (Activation)       (None, 16, 16, 32)   0           add_4[0][0]                      \n",
      "__________________________________________________________________________________________________\n",
      "conv2d_11 (Conv2D)              (None, 16, 16, 32)   9248        activation_9[0][0]               \n",
      "__________________________________________________________________________________________________\n",
      "batch_normalization_10 (BatchNo (None, 16, 16, 32)   128         conv2d_11[0][0]                  \n",
      "__________________________________________________________________________________________________\n",
      "activation_10 (Activation)      (None, 16, 16, 32)   0           batch_normalization_10[0][0]     \n",
      "__________________________________________________________________________________________________\n",
      "conv2d_12 (Conv2D)              (None, 16, 16, 32)   9248        activation_10[0][0]              \n",
      "__________________________________________________________________________________________________\n",
      "batch_normalization_11 (BatchNo (None, 16, 16, 32)   128         conv2d_12[0][0]                  \n",
      "__________________________________________________________________________________________________\n",
      "add_5 (Add)                     (None, 16, 16, 32)   0           activation_9[0][0]               \n",
      "                                                                 batch_normalization_11[0][0]     \n",
      "__________________________________________________________________________________________________\n",
      "activation_11 (Activation)      (None, 16, 16, 32)   0           add_5[0][0]                      \n",
      "__________________________________________________________________________________________________\n",
      "conv2d_13 (Conv2D)              (None, 16, 16, 32)   9248        activation_11[0][0]              \n",
      "__________________________________________________________________________________________________\n",
      "batch_normalization_12 (BatchNo (None, 16, 16, 32)   128         conv2d_13[0][0]                  \n",
      "__________________________________________________________________________________________________\n",
      "activation_12 (Activation)      (None, 16, 16, 32)   0           batch_normalization_12[0][0]     \n",
      "__________________________________________________________________________________________________\n",
      "conv2d_14 (Conv2D)              (None, 16, 16, 32)   9248        activation_12[0][0]              \n",
      "__________________________________________________________________________________________________\n",
      "batch_normalization_13 (BatchNo (None, 16, 16, 32)   128         conv2d_14[0][0]                  \n",
      "__________________________________________________________________________________________________\n",
      "add_6 (Add)                     (None, 16, 16, 32)   0           activation_11[0][0]              \n",
      "                                                                 batch_normalization_13[0][0]     \n",
      "__________________________________________________________________________________________________\n",
      "activation_13 (Activation)      (None, 16, 16, 32)   0           add_6[0][0]                      \n",
      "__________________________________________________________________________________________________\n",
      "conv2d_15 (Conv2D)              (None, 8, 8, 64)     18496       activation_13[0][0]              \n",
      "__________________________________________________________________________________________________\n",
      "batch_normalization_14 (BatchNo (None, 8, 8, 64)     256         conv2d_15[0][0]                  \n",
      "__________________________________________________________________________________________________\n",
      "activation_14 (Activation)      (None, 8, 8, 64)     0           batch_normalization_14[0][0]     \n",
      "__________________________________________________________________________________________________\n",
      "conv2d_16 (Conv2D)              (None, 8, 8, 64)     36928       activation_14[0][0]              \n",
      "__________________________________________________________________________________________________\n",
      "conv2d_17 (Conv2D)              (None, 8, 8, 64)     2112        activation_13[0][0]              \n",
      "__________________________________________________________________________________________________\n",
      "batch_normalization_15 (BatchNo (None, 8, 8, 64)     256         conv2d_16[0][0]                  \n",
      "__________________________________________________________________________________________________\n",
      "add_7 (Add)                     (None, 8, 8, 64)     0           conv2d_17[0][0]                  \n",
      "                                                                 batch_normalization_15[0][0]     \n",
      "__________________________________________________________________________________________________\n",
      "activation_15 (Activation)      (None, 8, 8, 64)     0           add_7[0][0]                      \n",
      "__________________________________________________________________________________________________\n",
      "conv2d_18 (Conv2D)              (None, 8, 8, 64)     36928       activation_15[0][0]              \n",
      "__________________________________________________________________________________________________\n",
      "batch_normalization_16 (BatchNo (None, 8, 8, 64)     256         conv2d_18[0][0]                  \n",
      "__________________________________________________________________________________________________\n",
      "activation_16 (Activation)      (None, 8, 8, 64)     0           batch_normalization_16[0][0]     \n",
      "__________________________________________________________________________________________________\n",
      "conv2d_19 (Conv2D)              (None, 8, 8, 64)     36928       activation_16[0][0]              \n",
      "__________________________________________________________________________________________________\n",
      "batch_normalization_17 (BatchNo (None, 8, 8, 64)     256         conv2d_19[0][0]                  \n",
      "__________________________________________________________________________________________________\n",
      "add_8 (Add)                     (None, 8, 8, 64)     0           activation_15[0][0]              \n",
      "                                                                 batch_normalization_17[0][0]     \n",
      "__________________________________________________________________________________________________\n",
      "activation_17 (Activation)      (None, 8, 8, 64)     0           add_8[0][0]                      \n",
      "__________________________________________________________________________________________________\n",
      "conv2d_20 (Conv2D)              (None, 8, 8, 64)     36928       activation_17[0][0]              \n",
      "__________________________________________________________________________________________________\n",
      "batch_normalization_18 (BatchNo (None, 8, 8, 64)     256         conv2d_20[0][0]                  \n",
      "__________________________________________________________________________________________________\n",
      "activation_18 (Activation)      (None, 8, 8, 64)     0           batch_normalization_18[0][0]     \n",
      "__________________________________________________________________________________________________\n",
      "conv2d_21 (Conv2D)              (None, 8, 8, 64)     36928       activation_18[0][0]              \n",
      "__________________________________________________________________________________________________\n",
      "batch_normalization_19 (BatchNo (None, 8, 8, 64)     256         conv2d_21[0][0]                  \n",
      "__________________________________________________________________________________________________\n",
      "add_9 (Add)                     (None, 8, 8, 64)     0           activation_17[0][0]              \n",
      "                                                                 batch_normalization_19[0][0]     \n",
      "__________________________________________________________________________________________________\n",
      "activation_19 (Activation)      (None, 8, 8, 64)     0           add_9[0][0]                      \n",
      "__________________________________________________________________________________________________\n",
      "average_pooling2d_1 (AveragePoo (None, 1, 1, 64)     0           activation_19[0][0]              \n",
      "__________________________________________________________________________________________________\n",
      "flatten_1 (Flatten)             (None, 64)           0           average_pooling2d_1[0][0]        \n",
      "__________________________________________________________________________________________________\n",
      "dense_1 (Dense)                 (None, 10)           650         flatten_1[0][0]                  \n",
      "==================================================================================================\n",
      "Total params: 274,442\n",
      "Trainable params: 273,066\n",
      "Non-trainable params: 1,376\n",
      "__________________________________________________________________________________________________\n"
     ]
    }
   ],
   "source": [
    "model.summary()"
   ]
  },
  {
   "cell_type": "code",
   "execution_count": 15,
   "metadata": {},
   "outputs": [],
   "source": [
    "# Prepare model model saving directory.\n",
    "save_dir = os.path.join(os.getcwd(), 'saved_models')\n",
    "model_name = 'ResNet'\n",
    "if not os.path.isdir(save_dir):\n",
    "    os.makedirs(save_dir)\n",
    "filepath = os.path.join(save_dir, model_name)"
   ]
  },
  {
   "cell_type": "code",
   "execution_count": 16,
   "metadata": {},
   "outputs": [],
   "source": [
    "# Prepare callbacks for model saving and for learning rate adjustment.\n",
    "checkpoint = ModelCheckpoint(filepath=filepath,\n",
    "                             monitor='val_acc',\n",
    "                             verbose=1,\n",
    "                             save_best_only=True)\n",
    "\n",
    "lr_scheduler = LearningRateScheduler(lr_schedule)\n",
    "\n",
    "lr_reducer = ReduceLROnPlateau(factor=np.sqrt(0.1),\n",
    "                               cooldown=0,\n",
    "                               patience=5,\n",
    "                               min_lr=0.5e-6)\n",
    "\n",
    "callbacks = [checkpoint, lr_reducer, lr_scheduler]"
   ]
  },
  {
   "cell_type": "markdown",
   "metadata": {},
   "source": [
    "# Train the Model"
   ]
  },
  {
   "cell_type": "code",
   "execution_count": 17,
   "metadata": {},
   "outputs": [
    {
     "name": "stdout",
     "output_type": "stream",
     "text": [
      "Train on 50000 samples, validate on 10000 samples\n",
      "Epoch 1/100\n",
      "50000/50000 [==============================] - 69s 1ms/step - loss: 1.4729 - accuracy: 0.5250 - val_loss: 1.3163 - val_accuracy: 0.5855\n",
      "Epoch 2/100\n",
      "  160/50000 [..............................] - ETA: 53s - loss: 1.1268 - accuracy: 0.6625"
     ]
    },
    {
     "name": "stderr",
     "output_type": "stream",
     "text": [
      "/opt/conda/lib/python3.7/site-packages/keras/callbacks/callbacks.py:707: RuntimeWarning: Can save best model only with val_acc available, skipping.\n",
      "  'skipping.' % (self.monitor), RuntimeWarning)\n"
     ]
    },
    {
     "name": "stdout",
     "output_type": "stream",
     "text": [
      "50000/50000 [==============================] - 59s 1ms/step - loss: 1.0684 - accuracy: 0.6791 - val_loss: 1.2016 - val_accuracy: 0.6414\n",
      "Epoch 3/100\n",
      "50000/50000 [==============================] - 59s 1ms/step - loss: 0.9154 - accuracy: 0.7379 - val_loss: 0.9792 - val_accuracy: 0.7230\n",
      "Epoch 4/100\n",
      "50000/50000 [==============================] - 58s 1ms/step - loss: 0.8142 - accuracy: 0.7744 - val_loss: 1.0837 - val_accuracy: 0.7006\n",
      "Epoch 5/100\n",
      "50000/50000 [==============================] - 59s 1ms/step - loss: 0.7411 - accuracy: 0.8026 - val_loss: 1.1677 - val_accuracy: 0.6743\n",
      "Epoch 6/100\n",
      "50000/50000 [==============================] - 59s 1ms/step - loss: 0.6936 - accuracy: 0.8190 - val_loss: 0.9900 - val_accuracy: 0.7347\n",
      "Epoch 7/100\n",
      "50000/50000 [==============================] - 59s 1ms/step - loss: 0.6497 - accuracy: 0.8388 - val_loss: 1.1244 - val_accuracy: 0.7063\n",
      "Epoch 8/100\n",
      "50000/50000 [==============================] - 58s 1ms/step - loss: 0.6197 - accuracy: 0.8484 - val_loss: 1.1826 - val_accuracy: 0.6968\n",
      "Epoch 9/100\n",
      "50000/50000 [==============================] - 58s 1ms/step - loss: 0.5880 - accuracy: 0.8610 - val_loss: 0.8548 - val_accuracy: 0.7861\n",
      "Epoch 10/100\n",
      "50000/50000 [==============================] - 58s 1ms/step - loss: 0.5600 - accuracy: 0.8741 - val_loss: 1.1704 - val_accuracy: 0.7274\n",
      "Epoch 11/100\n",
      "50000/50000 [==============================] - 58s 1ms/step - loss: 0.5418 - accuracy: 0.8834 - val_loss: 1.0261 - val_accuracy: 0.7583\n",
      "Epoch 12/100\n",
      "50000/50000 [==============================] - 59s 1ms/step - loss: 0.5208 - accuracy: 0.8929 - val_loss: 1.2034 - val_accuracy: 0.7114\n",
      "Epoch 13/100\n",
      "50000/50000 [==============================] - 58s 1ms/step - loss: 0.5032 - accuracy: 0.9007 - val_loss: 0.9985 - val_accuracy: 0.7625\n",
      "Epoch 14/100\n",
      "50000/50000 [==============================] - 59s 1ms/step - loss: 0.4916 - accuracy: 0.9053 - val_loss: 0.8918 - val_accuracy: 0.7896\n",
      "Epoch 15/100\n",
      "50000/50000 [==============================] - 59s 1ms/step - loss: 0.4854 - accuracy: 0.9093 - val_loss: 1.4315 - val_accuracy: 0.7029\n",
      "Epoch 16/100\n",
      "50000/50000 [==============================] - 60s 1ms/step - loss: 0.4721 - accuracy: 0.9153 - val_loss: 1.1528 - val_accuracy: 0.7480\n",
      "Epoch 17/100\n",
      "50000/50000 [==============================] - 60s 1ms/step - loss: 0.4630 - accuracy: 0.9189 - val_loss: 1.1433 - val_accuracy: 0.7496\n",
      "Epoch 18/100\n",
      "50000/50000 [==============================] - 60s 1ms/step - loss: 0.4615 - accuracy: 0.9215 - val_loss: 1.0815 - val_accuracy: 0.7669\n",
      "Epoch 19/100\n",
      "50000/50000 [==============================] - 60s 1ms/step - loss: 0.4578 - accuracy: 0.9244 - val_loss: 1.3954 - val_accuracy: 0.7157\n",
      "Epoch 20/100\n",
      "50000/50000 [==============================] - 60s 1ms/step - loss: 0.4503 - accuracy: 0.9284 - val_loss: 1.0497 - val_accuracy: 0.7761\n",
      "Epoch 21/100\n",
      "50000/50000 [==============================] - 61s 1ms/step - loss: 0.4441 - accuracy: 0.9318 - val_loss: 1.1424 - val_accuracy: 0.7524\n",
      "Epoch 22/100\n",
      "50000/50000 [==============================] - 60s 1ms/step - loss: 0.4447 - accuracy: 0.9319 - val_loss: 0.9410 - val_accuracy: 0.8011\n",
      "Epoch 23/100\n",
      "50000/50000 [==============================] - 59s 1ms/step - loss: 0.4407 - accuracy: 0.9337 - val_loss: 1.2103 - val_accuracy: 0.7495\n",
      "Epoch 24/100\n",
      "50000/50000 [==============================] - 58s 1ms/step - loss: 0.4397 - accuracy: 0.9362 - val_loss: 1.2241 - val_accuracy: 0.7542\n",
      "Epoch 25/100\n",
      "50000/50000 [==============================] - 57s 1ms/step - loss: 0.4318 - accuracy: 0.9383 - val_loss: 1.0739 - val_accuracy: 0.7803\n",
      "Epoch 26/100\n",
      "50000/50000 [==============================] - 58s 1ms/step - loss: 0.4343 - accuracy: 0.9392 - val_loss: 1.1541 - val_accuracy: 0.7755\n",
      "Epoch 27/100\n",
      "50000/50000 [==============================] - 57s 1ms/step - loss: 0.4304 - accuracy: 0.9398 - val_loss: 1.1424 - val_accuracy: 0.7755\n",
      "Epoch 28/100\n",
      "50000/50000 [==============================] - 58s 1ms/step - loss: 0.4339 - accuracy: 0.9409 - val_loss: 1.1518 - val_accuracy: 0.7625\n",
      "Epoch 29/100\n",
      "50000/50000 [==============================] - 58s 1ms/step - loss: 0.4314 - accuracy: 0.9421 - val_loss: 1.0454 - val_accuracy: 0.7880\n",
      "Epoch 30/100\n",
      "50000/50000 [==============================] - 58s 1ms/step - loss: 0.4295 - accuracy: 0.9429 - val_loss: 1.1222 - val_accuracy: 0.7839\n",
      "Epoch 31/100\n",
      "50000/50000 [==============================] - 58s 1ms/step - loss: 0.4258 - accuracy: 0.9452 - val_loss: 1.0353 - val_accuracy: 0.8030\n",
      "Epoch 32/100\n",
      "50000/50000 [==============================] - 58s 1ms/step - loss: 0.4291 - accuracy: 0.9437 - val_loss: 1.0751 - val_accuracy: 0.7856\n",
      "Epoch 33/100\n",
      "50000/50000 [==============================] - 57s 1ms/step - loss: 0.4217 - accuracy: 0.9465 - val_loss: 1.2223 - val_accuracy: 0.7539\n",
      "Epoch 34/100\n",
      "50000/50000 [==============================] - 57s 1ms/step - loss: 0.4248 - accuracy: 0.9456 - val_loss: 1.1920 - val_accuracy: 0.7789\n",
      "Epoch 35/100\n",
      "50000/50000 [==============================] - 57s 1ms/step - loss: 0.4249 - accuracy: 0.9442 - val_loss: 1.1081 - val_accuracy: 0.7817\n",
      "Epoch 36/100\n",
      "50000/50000 [==============================] - 57s 1ms/step - loss: 0.4249 - accuracy: 0.9462 - val_loss: 1.2339 - val_accuracy: 0.7583\n",
      "Epoch 37/100\n",
      "50000/50000 [==============================] - 57s 1ms/step - loss: 0.4242 - accuracy: 0.9472 - val_loss: 1.1576 - val_accuracy: 0.7834\n",
      "Epoch 38/100\n",
      "50000/50000 [==============================] - 57s 1ms/step - loss: 0.4180 - accuracy: 0.9486 - val_loss: 1.4300 - val_accuracy: 0.7342\n",
      "Epoch 39/100\n",
      "50000/50000 [==============================] - 57s 1ms/step - loss: 0.4183 - accuracy: 0.9499 - val_loss: 1.2360 - val_accuracy: 0.7685\n",
      "Epoch 40/100\n",
      "50000/50000 [==============================] - 57s 1ms/step - loss: 0.4174 - accuracy: 0.9491 - val_loss: 1.1887 - val_accuracy: 0.7670\n",
      "Epoch 41/100\n",
      "50000/50000 [==============================] - 57s 1ms/step - loss: 0.4200 - accuracy: 0.9482 - val_loss: 1.0607 - val_accuracy: 0.8060\n",
      "Epoch 42/100\n",
      "50000/50000 [==============================] - 57s 1ms/step - loss: 0.4149 - accuracy: 0.9505 - val_loss: 1.0670 - val_accuracy: 0.7991\n",
      "Epoch 43/100\n",
      "50000/50000 [==============================] - 57s 1ms/step - loss: 0.4151 - accuracy: 0.9493 - val_loss: 1.0139 - val_accuracy: 0.8043\n",
      "Epoch 44/100\n",
      "50000/50000 [==============================] - 57s 1ms/step - loss: 0.4171 - accuracy: 0.9500 - val_loss: 1.1385 - val_accuracy: 0.7960\n",
      "Epoch 45/100\n",
      "50000/50000 [==============================] - 57s 1ms/step - loss: 0.4165 - accuracy: 0.9493 - val_loss: 1.1209 - val_accuracy: 0.7885\n",
      "Epoch 46/100\n",
      "50000/50000 [==============================] - 56s 1ms/step - loss: 0.4099 - accuracy: 0.9525 - val_loss: 1.0884 - val_accuracy: 0.7955\n",
      "Epoch 47/100\n",
      "50000/50000 [==============================] - 57s 1ms/step - loss: 0.4160 - accuracy: 0.9508 - val_loss: 1.2577 - val_accuracy: 0.7779\n",
      "Epoch 48/100\n",
      "50000/50000 [==============================] - 57s 1ms/step - loss: 0.4117 - accuracy: 0.9524 - val_loss: 1.1011 - val_accuracy: 0.7964\n",
      "Epoch 49/100\n",
      "50000/50000 [==============================] - 57s 1ms/step - loss: 0.4136 - accuracy: 0.9526 - val_loss: 1.2204 - val_accuracy: 0.7675\n",
      "Epoch 50/100\n",
      "50000/50000 [==============================] - 57s 1ms/step - loss: 0.4098 - accuracy: 0.9523 - val_loss: 1.3131 - val_accuracy: 0.7484\n",
      "Epoch 51/100\n",
      "50000/50000 [==============================] - 57s 1ms/step - loss: 0.4142 - accuracy: 0.9515 - val_loss: 1.3078 - val_accuracy: 0.7710\n",
      "Epoch 52/100\n",
      "50000/50000 [==============================] - 57s 1ms/step - loss: 0.4076 - accuracy: 0.9534 - val_loss: 1.1061 - val_accuracy: 0.7978\n",
      "Epoch 53/100\n",
      "50000/50000 [==============================] - 58s 1ms/step - loss: 0.4119 - accuracy: 0.9514 - val_loss: 1.2466 - val_accuracy: 0.7760\n",
      "Epoch 54/100\n",
      "50000/50000 [==============================] - 57s 1ms/step - loss: 0.4055 - accuracy: 0.9541 - val_loss: 1.4571 - val_accuracy: 0.7377\n",
      "Epoch 55/100\n",
      "50000/50000 [==============================] - 57s 1ms/step - loss: 0.4128 - accuracy: 0.9513 - val_loss: 1.1643 - val_accuracy: 0.7963\n",
      "Epoch 56/100\n",
      "50000/50000 [==============================] - 57s 1ms/step - loss: 0.4085 - accuracy: 0.9528 - val_loss: 1.0322 - val_accuracy: 0.7921\n",
      "Epoch 57/100\n",
      "50000/50000 [==============================] - 57s 1ms/step - loss: 0.4085 - accuracy: 0.9527 - val_loss: 1.2949 - val_accuracy: 0.7657\n",
      "Epoch 58/100\n",
      "50000/50000 [==============================] - 57s 1ms/step - loss: 0.4101 - accuracy: 0.9535 - val_loss: 1.1462 - val_accuracy: 0.7983\n",
      "Epoch 59/100\n",
      "50000/50000 [==============================] - 57s 1ms/step - loss: 0.3985 - accuracy: 0.9566 - val_loss: 1.2084 - val_accuracy: 0.7674\n",
      "Epoch 60/100\n",
      "50000/50000 [==============================] - 58s 1ms/step - loss: 0.4126 - accuracy: 0.9506 - val_loss: 1.1847 - val_accuracy: 0.7788\n",
      "Epoch 61/100\n",
      "50000/50000 [==============================] - 57s 1ms/step - loss: 0.4003 - accuracy: 0.9563 - val_loss: 1.2598 - val_accuracy: 0.7768\n",
      "Epoch 62/100\n",
      "50000/50000 [==============================] - 57s 1ms/step - loss: 0.4088 - accuracy: 0.9528 - val_loss: 1.0680 - val_accuracy: 0.8067\n",
      "Epoch 63/100\n",
      "50000/50000 [==============================] - 57s 1ms/step - loss: 0.4048 - accuracy: 0.9538 - val_loss: 1.2035 - val_accuracy: 0.7750\n",
      "Epoch 64/100\n",
      "50000/50000 [==============================] - 58s 1ms/step - loss: 0.3970 - accuracy: 0.9575 - val_loss: 1.3880 - val_accuracy: 0.7545\n",
      "Epoch 65/100\n",
      "50000/50000 [==============================] - 57s 1ms/step - loss: 0.3980 - accuracy: 0.9562 - val_loss: 1.5276 - val_accuracy: 0.7282\n",
      "Epoch 66/100\n",
      "50000/50000 [==============================] - 57s 1ms/step - loss: 0.4010 - accuracy: 0.9551 - val_loss: 1.1803 - val_accuracy: 0.7900\n",
      "Epoch 67/100\n",
      "50000/50000 [==============================] - 57s 1ms/step - loss: 0.3983 - accuracy: 0.9555 - val_loss: 1.2805 - val_accuracy: 0.7791\n",
      "Epoch 68/100\n",
      "50000/50000 [==============================] - 57s 1ms/step - loss: 0.4007 - accuracy: 0.9559 - val_loss: 1.4955 - val_accuracy: 0.7421\n",
      "Epoch 69/100\n",
      "50000/50000 [==============================] - 57s 1ms/step - loss: 0.3965 - accuracy: 0.9564 - val_loss: 1.3746 - val_accuracy: 0.7520\n",
      "Epoch 70/100\n",
      "50000/50000 [==============================] - 57s 1ms/step - loss: 0.3975 - accuracy: 0.9559 - val_loss: 1.2234 - val_accuracy: 0.7794\n",
      "Epoch 71/100\n",
      "50000/50000 [==============================] - 58s 1ms/step - loss: 0.3974 - accuracy: 0.9562 - val_loss: 1.2917 - val_accuracy: 0.7841\n",
      "Epoch 72/100\n",
      "50000/50000 [==============================] - 57s 1ms/step - loss: 0.3948 - accuracy: 0.9578 - val_loss: 1.1104 - val_accuracy: 0.8008\n",
      "Epoch 73/100\n",
      "50000/50000 [==============================] - 57s 1ms/step - loss: 0.3977 - accuracy: 0.9556 - val_loss: 1.0546 - val_accuracy: 0.8078\n",
      "Epoch 74/100\n",
      "50000/50000 [==============================] - 57s 1ms/step - loss: 0.3953 - accuracy: 0.9566 - val_loss: 1.1827 - val_accuracy: 0.7907\n",
      "Epoch 75/100\n",
      "50000/50000 [==============================] - 57s 1ms/step - loss: 0.3989 - accuracy: 0.9552 - val_loss: 1.1131 - val_accuracy: 0.7960\n",
      "Epoch 76/100\n",
      "50000/50000 [==============================] - 57s 1ms/step - loss: 0.3933 - accuracy: 0.9585 - val_loss: 1.2114 - val_accuracy: 0.7827\n",
      "Epoch 77/100\n",
      "50000/50000 [==============================] - 57s 1ms/step - loss: 0.3953 - accuracy: 0.9579 - val_loss: 1.2714 - val_accuracy: 0.7701\n",
      "Epoch 78/100\n",
      "50000/50000 [==============================] - 57s 1ms/step - loss: 0.3934 - accuracy: 0.9572 - val_loss: 1.2218 - val_accuracy: 0.7803\n",
      "Epoch 79/100\n",
      "50000/50000 [==============================] - 57s 1ms/step - loss: 0.3900 - accuracy: 0.9578 - val_loss: 1.6190 - val_accuracy: 0.7245\n",
      "Epoch 80/100\n",
      "50000/50000 [==============================] - 57s 1ms/step - loss: 0.3955 - accuracy: 0.9563 - val_loss: 1.5420 - val_accuracy: 0.7386\n",
      "Epoch 81/100\n",
      "50000/50000 [==============================] - 57s 1ms/step - loss: 0.3884 - accuracy: 0.9593 - val_loss: 1.2135 - val_accuracy: 0.7826\n",
      "Epoch 82/100\n",
      "50000/50000 [==============================] - 57s 1ms/step - loss: 0.3178 - accuracy: 0.9853 - val_loss: 0.9429 - val_accuracy: 0.8329\n",
      "Epoch 83/100\n",
      "50000/50000 [==============================] - 57s 1ms/step - loss: 0.2855 - accuracy: 0.9953 - val_loss: 0.9360 - val_accuracy: 0.8410\n",
      "Epoch 84/100\n",
      "50000/50000 [==============================] - 57s 1ms/step - loss: 0.2699 - accuracy: 0.9979 - val_loss: 0.9577 - val_accuracy: 0.8363\n",
      "Epoch 85/100\n",
      "50000/50000 [==============================] - 57s 1ms/step - loss: 0.2560 - accuracy: 0.9990 - val_loss: 0.9678 - val_accuracy: 0.8420\n",
      "Epoch 86/100\n",
      "50000/50000 [==============================] - 58s 1ms/step - loss: 0.2434 - accuracy: 0.9990 - val_loss: 0.9770 - val_accuracy: 0.8400\n",
      "Epoch 87/100\n",
      "50000/50000 [==============================] - 57s 1ms/step - loss: 0.2302 - accuracy: 0.9994 - val_loss: 1.0083 - val_accuracy: 0.8382\n",
      "Epoch 88/100\n",
      "50000/50000 [==============================] - 57s 1ms/step - loss: 0.2177 - accuracy: 0.9993 - val_loss: 1.0071 - val_accuracy: 0.8376\n",
      "Epoch 89/100\n",
      "50000/50000 [==============================] - 57s 1ms/step - loss: 0.2069 - accuracy: 0.9993 - val_loss: 1.0154 - val_accuracy: 0.8376\n",
      "Epoch 90/100\n",
      "50000/50000 [==============================] - 57s 1ms/step - loss: 0.1970 - accuracy: 0.9992 - val_loss: 1.0007 - val_accuracy: 0.8367\n",
      "Epoch 91/100\n",
      "50000/50000 [==============================] - 56s 1ms/step - loss: 0.1876 - accuracy: 0.9992 - val_loss: 1.0126 - val_accuracy: 0.8405\n",
      "Epoch 92/100\n",
      "50000/50000 [==============================] - 57s 1ms/step - loss: 0.1792 - accuracy: 0.9994 - val_loss: 1.0165 - val_accuracy: 0.8393\n",
      "Epoch 93/100\n",
      "50000/50000 [==============================] - 57s 1ms/step - loss: 0.1708 - accuracy: 0.9994 - val_loss: 1.0492 - val_accuracy: 0.8360\n",
      "Epoch 94/100\n",
      "50000/50000 [==============================] - 57s 1ms/step - loss: 0.1640 - accuracy: 0.9994 - val_loss: 1.0215 - val_accuracy: 0.8379\n",
      "Epoch 95/100\n",
      "50000/50000 [==============================] - 57s 1ms/step - loss: 0.1574 - accuracy: 0.9994 - val_loss: 1.0385 - val_accuracy: 0.8336\n",
      "Epoch 96/100\n",
      "50000/50000 [==============================] - 57s 1ms/step - loss: 0.1516 - accuracy: 0.9993 - val_loss: 1.0482 - val_accuracy: 0.8362\n",
      "Epoch 97/100\n",
      "50000/50000 [==============================] - 57s 1ms/step - loss: 0.1474 - accuracy: 0.9991 - val_loss: 1.0419 - val_accuracy: 0.8372\n",
      "Epoch 98/100\n",
      "50000/50000 [==============================] - 56s 1ms/step - loss: 0.1435 - accuracy: 0.9989 - val_loss: 1.0272 - val_accuracy: 0.8342\n",
      "Epoch 99/100\n",
      "50000/50000 [==============================] - 57s 1ms/step - loss: 0.1386 - accuracy: 0.9993 - val_loss: 1.0533 - val_accuracy: 0.8343\n",
      "Epoch 100/100\n",
      "50000/50000 [==============================] - 56s 1ms/step - loss: 0.1341 - accuracy: 0.9995 - val_loss: 1.0643 - val_accuracy: 0.8320\n"
     ]
    }
   ],
   "source": [
    "h=model.fit(x_train, y_train,\n",
    "            batch_size=batch_size,\n",
    "            epochs=epochs,\n",
    "            validation_data=(x_test, y_test),\n",
    "            shuffle=True,\n",
    "            callbacks=callbacks)"
   ]
  },
  {
   "cell_type": "markdown",
   "metadata": {},
   "source": [
    "# Loss"
   ]
  },
  {
   "cell_type": "code",
   "execution_count": 22,
   "metadata": {},
   "outputs": [
    {
     "data": {
      "image/png": "[encoded data removed]",
      "text/plain": [
       "<Figure size 432x288 with 1 Axes>"
      ]
     },
     "metadata": {
      "needs_background": "light"
     },
     "output_type": "display_data"
    }
   ],
   "source": [
    "import matplotlib.pyplot as plt\n",
    "epoch_nums = range(1, epochs+1)\n",
    "training_loss = h.history[\"loss\"]\n",
    "validation_loss = h.history[\"val_loss\"]\n",
    "plt.plot(epoch_nums , training_loss)\n",
    "plt.plot(epoch_nums , validation_loss)\n",
    "plt.xlabel('epoch')\n",
    "plt.ylabel('loss')\n",
    "plt.legend(['training','validation'], loc='upper right')\n",
    "plt.show()"
   ]
  },
  {
   "cell_type": "markdown",
   "metadata": {},
   "source": [
    "# Trained Model Score"
   ]
  },
  {
   "cell_type": "code",
   "execution_count": 23,
   "metadata": {},
   "outputs": [
    {
     "name": "stdout",
     "output_type": "stream",
     "text": [
      "10000/10000 [==============================] - 3s 282us/step\n",
      "Test loss: 1.0642930257320404\n",
      "Test accuracy: 0.8320000171661377\n"
     ]
    }
   ],
   "source": [
    "scores = model.evaluate(x_test, y_test, verbose=1)\n",
    "print('Test loss:', scores[0])\n",
    "print('Test accuracy:', scores[1])"
   ]
  },
  {
   "cell_type": "markdown",
   "metadata": {},
   "source": [
    "# Trained Model Test"
   ]
  },
  {
   "cell_type": "code",
   "execution_count": 20,
   "metadata": {},
   "outputs": [],
   "source": [
    "def testImage(result):\n",
    "    print(result) \n",
    "    if result[0][0]==1: \n",
    "        print(\"Aeroplane\") \n",
    "    elif result[0][1]==1: \n",
    "        print('Automobile') \n",
    "    elif result[0][2]==1: \n",
    "        print('Bird') \n",
    "    elif result[0][3]==1: \n",
    "        print('Cat') \n",
    "    elif result[0][4]==1: \n",
    "        print('Deer') \n",
    "    elif result[0][5]==1: \n",
    "        print('Dog') \n",
    "    elif result[0][6]==1: \n",
    "        print('Frog') \n",
    "    elif result[0][7]==1: \n",
    "        print('Horse') \n",
    "    elif result[0][8]==1: \n",
    "        print('Ship') \n",
    "    elif result[0][9]==1: \n",
    "        print('Truck') \n",
    "    else:\n",
    "        print('Error')"
   ]
  },
  {
   "cell_type": "code",
   "execution_count": 36,
   "metadata": {},
   "outputs": [
    {
     "name": "stdout",
     "output_type": "stream",
     "text": [
      "[[0. 1. 0. 0. 0. 0. 0. 0. 0. 0.]]\n",
      "Automobile\n"
     ]
    },
    {
     "data": {
      "image/png": "[encoded data removed]",
      "text/plain": [
       "<Figure size 432x288 with 1 Axes>"
      ]
     },
     "metadata": {
      "needs_background": "light"
     },
     "output_type": "display_data"
    }
   ],
   "source": [
    "from keras.preprocessing import image\n",
    "\n",
    "test_image1 =image.load_img(\"../input/imagetest/Image/automobile2.jpg\",target_size =(32,32,3))\n",
    "test_image =image.img_to_array(test_image1) \n",
    "test_image =np.expand_dims(test_image, axis =0) \n",
    "result = model.predict(test_image)\n",
    "plt.imshow(test_image1)\n",
    "testImage(result)"
   ]
  },
  {
   "cell_type": "code",
   "execution_count": 45,
   "metadata": {},
   "outputs": [
    {
     "name": "stdout",
     "output_type": "stream",
     "text": [
      "[[0. 0. 0. 0. 0. 0. 0. 1. 0. 0.]]\n",
      "Horse\n"
     ]
    },
    {
     "data": {
      "image/png": "[encoded data removed]",
      "text/plain": [
       "<Figure size 432x288 with 1 Axes>"
      ]
     },
     "metadata": {
      "needs_background": "light"
     },
     "output_type": "display_data"
    }
   ],
   "source": [
    "test_image2 =image.load_img(\"../input/imagetest/Image/horse2.jpg\",target_size =(32,32,3))\n",
    "test_img2 =image.img_to_array(test_image2) \n",
    "test_img2 =np.expand_dims(test_img2, axis =0) \n",
    "result = model.predict(test_img2)\n",
    "plt.imshow(test_image2)\n",
    "testImage(result)"
   ]
  },
  {
   "cell_type": "markdown",
   "metadata": {},
   "source": [
    "# Test by Dataset"
   ]
  },
  {
   "cell_type": "code",
   "execution_count": 54,
   "metadata": {},
   "outputs": [],
   "source": [
    "y_pred_test = model.predict(x_test)\n",
    "y_test_classes = np.argmax(y_pred_test, axis=1)\n",
    "y_pred_test_classes = np.argmax(y_pred_test, axis=1)\n",
    "y_pred_test_max_probas = np.max(y_pred_test, axis=1)"
   ]
  },
  {
   "cell_type": "code",
   "execution_count": 55,
   "metadata": {},
   "outputs": [
    {
     "data": {
      "image/png": "[encoded data removed]",
      "text/plain": [
       "<Figure size 1080x360 with 16 Axes>"
      ]
     },
     "metadata": {
      "needs_background": "light"
     },
     "output_type": "display_data"
    }
   ],
   "source": [
    "cols = 8\n",
    "rows = 2\n",
    "NUM_CLASSES = 10\n",
    "cifar10_classes = [\"airplane\", \"automobile\", \"bird\", \"cat\", \"deer\", \n",
    "                   \"dog\", \"frog\", \"horse\", \"ship\", \"truck\"]\n",
    "fig = plt.figure(figsize=(2 * cols - 1, 3 * rows - 1))\n",
    "for i in range(cols):\n",
    "    for j in range(rows):\n",
    "        y_test = y_test.astype(int)\n",
    "        random_index = np.random.randint(0, len(y_test))\n",
    "        ax = fig.add_subplot(rows, cols, i * rows + j + 1)\n",
    "        ax.grid('off')\n",
    "        ax.axis('off')\n",
    "        ax.imshow(x_test[random_index, :])\n",
    "        pred_label =  cifar10_classes[y_pred_test_classes[random_index]]\n",
    "        pred_proba = y_pred_test_max_probas[random_index]\n",
    "        true_label = cifar10_classes[y_test_classes[random_index]]\n",
    "        ax.set_title(\"pred: {}\\nscore: {:.3}\\ntrue: {}\".format(\n",
    "               pred_label, pred_proba, true_label\n",
    "        ))\n",
    "plt.show()"
   ]
  },
  {
   "cell_type": "code",
   "execution_count": null,
   "metadata": {},
   "outputs": [],
   "source": []
  }
 ],
 "metadata": {
  "kernelspec": {
   "display_name": "Python 3",
   "language": "python",
   "name": "python3"
  },
  "language_info": {
   "codemirror_mode": {
    "name": "ipython",
    "version": 3
   },
   "file_extension": ".py",
   "mimetype": "text/x-python",
   "name": "python",
   "nbconvert_exporter": "python",
   "pygments_lexer": "ipython3",
   "version": "3.7.4"
  }
 },
 "nbformat": 4,
 "nbformat_minor": 4
}
