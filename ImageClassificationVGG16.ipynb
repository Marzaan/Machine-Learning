{
 "cells": [
  {
   "cell_type": "code",
   "execution_count": 1,
   "metadata": {},
   "outputs": [
    {
     "name": "stderr",
     "output_type": "stream",
     "text": [
      "Using TensorFlow backend.\n"
     ]
    }
   ],
   "source": [
    "# example of loading the cifar10 dataset\n",
    "from matplotlib import pyplot\n",
    "from keras.datasets import cifar10\n",
    "from keras.utils import to_categorical\n",
    "\n",
    "# load dataset\n",
    "(X_train, Y_train), (X_test, Y_test) = cifar10.load_data()\n",
    "Y_train = to_categorical(Y_train)\n",
    "Y_test = to_categorical(Y_test)"
   ]
  },
  {
   "cell_type": "markdown",
   "metadata": {},
   "source": [
    "# Load and Compile the Model"
   ]
  },
  {
   "cell_type": "code",
   "execution_count": 2,
   "metadata": {},
   "outputs": [
    {
     "name": "stdout",
     "output_type": "stream",
     "text": [
      "Model: \"vgg16\"\n",
      "_________________________________________________________________\n",
      "Layer (type)                 Output Shape              Param #   \n",
      "=================================================================\n",
      "input_1 (InputLayer)         [(None, 32, 32, 3)]       0         \n",
      "_________________________________________________________________\n",
      "block1_conv1 (Conv2D)        (None, 32, 32, 64)        1792      \n",
      "_________________________________________________________________\n",
      "block1_conv2 (Conv2D)        (None, 32, 32, 64)        36928     \n",
      "_________________________________________________________________\n",
      "block1_pool (MaxPooling2D)   (None, 16, 16, 64)        0         \n",
      "_________________________________________________________________\n",
      "block2_conv1 (Conv2D)        (None, 16, 16, 128)       73856     \n",
      "_________________________________________________________________\n",
      "block2_conv2 (Conv2D)        (None, 16, 16, 128)       147584    \n",
      "_________________________________________________________________\n",
      "block2_pool (MaxPooling2D)   (None, 8, 8, 128)         0         \n",
      "_________________________________________________________________\n",
      "block3_conv1 (Conv2D)        (None, 8, 8, 256)         295168    \n",
      "_________________________________________________________________\n",
      "block3_conv2 (Conv2D)        (None, 8, 8, 256)         590080    \n",
      "_________________________________________________________________\n",
      "block3_conv3 (Conv2D)        (None, 8, 8, 256)         590080    \n",
      "_________________________________________________________________\n",
      "block3_pool (MaxPooling2D)   (None, 4, 4, 256)         0         \n",
      "_________________________________________________________________\n",
      "block4_conv1 (Conv2D)        (None, 4, 4, 512)         1180160   \n",
      "_________________________________________________________________\n",
      "block4_conv2 (Conv2D)        (None, 4, 4, 512)         2359808   \n",
      "_________________________________________________________________\n",
      "block4_conv3 (Conv2D)        (None, 4, 4, 512)         2359808   \n",
      "_________________________________________________________________\n",
      "block4_pool (MaxPooling2D)   (None, 2, 2, 512)         0         \n",
      "_________________________________________________________________\n",
      "block5_conv1 (Conv2D)        (None, 2, 2, 512)         2359808   \n",
      "_________________________________________________________________\n",
      "block5_conv2 (Conv2D)        (None, 2, 2, 512)         2359808   \n",
      "_________________________________________________________________\n",
      "block5_conv3 (Conv2D)        (None, 2, 2, 512)         2359808   \n",
      "_________________________________________________________________\n",
      "block5_pool (MaxPooling2D)   (None, 1, 1, 512)         0         \n",
      "_________________________________________________________________\n",
      "flatten (Flatten)            (None, 512)               0         \n",
      "_________________________________________________________________\n",
      "fc1 (Dense)                  (None, 4096)              2101248   \n",
      "_________________________________________________________________\n",
      "fc2 (Dense)                  (None, 4096)              16781312  \n",
      "_________________________________________________________________\n",
      "predictions (Dense)          (None, 10)                40970     \n",
      "=================================================================\n",
      "Total params: 33,638,218\n",
      "Trainable params: 33,638,218\n",
      "Non-trainable params: 0\n",
      "_________________________________________________________________\n"
     ]
    }
   ],
   "source": [
    "from tensorflow.keras.applications.vgg16 import VGG16\n",
    "\n",
    "model = VGG16(\n",
    "    weights=None, \n",
    "    include_top=True, \n",
    "    classes=10,\n",
    "    input_shape=(32,32,3)\n",
    ")\n",
    "\n",
    "# Expand this cell for the model summary\n",
    "model.summary()"
   ]
  },
  {
   "cell_type": "code",
   "execution_count": 3,
   "metadata": {},
   "outputs": [],
   "source": [
    "from tensorflow.keras import optimizers\n",
    "\n",
    "model.compile(\n",
    "    loss='categorical_crossentropy',\n",
    "    optimizer='sgd',\n",
    "    metrics=['accuracy']\n",
    ")"
   ]
  },
  {
   "cell_type": "markdown",
   "metadata": {},
   "source": [
    "# Train the Model"
   ]
  },
  {
   "cell_type": "code",
   "execution_count": 4,
   "metadata": {},
   "outputs": [
    {
     "name": "stdout",
     "output_type": "stream",
     "text": [
      "Train on 45000 samples, validate on 5000 samples\n",
      "Epoch 1/10\n",
      "44928/45000 [============================>.] - ETA: 2s - loss: 2.1630 - accuracy: 0.2053WARNING:tensorflow:Can save best model only with val_acc available, skipping.\n",
      "45000/45000 [==============================] - 1943s 43ms/sample - loss: 2.1627 - accuracy: 0.2053 - val_loss: 1.9588 - val_accuracy: 0.2668\n",
      "Epoch 2/10\n",
      "44928/45000 [============================>.] - ETA: 6s - loss: 1.8848 - accuracy: 0.3194 WARNING:tensorflow:Can save best model only with val_acc available, skipping.\n",
      "45000/45000 [==============================] - 3947s 88ms/sample - loss: 1.8849 - accuracy: 0.3193 - val_loss: 1.8081 - val_accuracy: 0.3070\n",
      "Epoch 3/10\n",
      "44928/45000 [============================>.] - ETA: 2s - loss: 1.6344 - accuracy: 0.4099WARNING:tensorflow:Can save best model only with val_acc available, skipping.\n",
      "45000/45000 [==============================] - 1954s 43ms/sample - loss: 1.6344 - accuracy: 0.4100 - val_loss: 1.5427 - val_accuracy: 0.4282\n",
      "Epoch 4/10\n",
      "44928/45000 [============================>.] - ETA: 2s - loss: 1.4854 - accuracy: 0.4659WARNING:tensorflow:Can save best model only with val_acc available, skipping.\n",
      "45000/45000 [==============================] - 1947s 43ms/sample - loss: 1.4848 - accuracy: 0.4661 - val_loss: 1.4569 - val_accuracy: 0.4684\n",
      "Epoch 5/10\n",
      "44928/45000 [============================>.] - ETA: 3s - loss: 1.3655 - accuracy: 0.5081WARNING:tensorflow:Can save best model only with val_acc available, skipping.\n",
      "45000/45000 [==============================] - 2017s 45ms/sample - loss: 1.3657 - accuracy: 0.5081 - val_loss: 1.3382 - val_accuracy: 0.5098\n",
      "Epoch 6/10\n",
      "44928/45000 [============================>.] - ETA: 3s - loss: 1.2590 - accuracy: 0.5498WARNING:tensorflow:Can save best model only with val_acc available, skipping.\n",
      "45000/45000 [==============================] - 1977s 44ms/sample - loss: 1.2586 - accuracy: 0.5499 - val_loss: 1.1868 - val_accuracy: 0.5788\n",
      "Epoch 7/10\n",
      "44928/45000 [============================>.] - ETA: 2s - loss: 1.1647 - accuracy: 0.5838WARNING:tensorflow:Can save best model only with val_acc available, skipping.\n",
      "45000/45000 [==============================] - 1934s 43ms/sample - loss: 1.1649 - accuracy: 0.5836 - val_loss: 1.2139 - val_accuracy: 0.5480\n",
      "Epoch 8/10\n",
      "44928/45000 [============================>.] - ETA: 3s - loss: 1.0676 - accuracy: 0.6224WARNING:tensorflow:Can save best model only with val_acc available, skipping.\n",
      "45000/45000 [==============================] - 2192s 49ms/sample - loss: 1.0672 - accuracy: 0.6225 - val_loss: 1.1064 - val_accuracy: 0.6088\n",
      "Epoch 9/10\n",
      "44928/45000 [============================>.] - ETA: 3s - loss: 0.9785 - accuracy: 0.6549 WARNING:tensorflow:Can save best model only with val_acc available, skipping.\n",
      "45000/45000 [==============================] - 2396s 53ms/sample - loss: 0.9781 - accuracy: 0.6551 - val_loss: 1.1082 - val_accuracy: 0.6122\n",
      "Epoch 10/10\n",
      "44928/45000 [============================>.] - ETA: 3s - loss: 0.8927 - accuracy: 0.6860WARNING:tensorflow:Can save best model only with val_acc available, skipping.\n",
      "45000/45000 [==============================] - 1970s 44ms/sample - loss: 0.8925 - accuracy: 0.6861 - val_loss: 1.0347 - val_accuracy: 0.6446\n"
     ]
    }
   ],
   "source": [
    "from tensorflow.keras.callbacks import ModelCheckpoint\n",
    "\n",
    "checkpoint = ModelCheckpoint(\n",
    "    'model.h5', \n",
    "    monitor='val_acc', \n",
    "    verbose=0, \n",
    "    save_best_only=True, \n",
    "    save_weights_only=False,\n",
    "    mode='auto'\n",
    ")\n",
    "\n",
    "# Train the model\n",
    "history = model.fit(\n",
    "    x=X_train,\n",
    "    y=Y_train,\n",
    "    \n",
    "    validation_split=0.1,\n",
    "    batch_size=128,\n",
    "    epochs=10,\n",
    "    callbacks=[checkpoint],\n",
    "    verbose=1\n",
    ")"
   ]
  }
 ],
 "metadata": {
  "kernelspec": {
   "display_name": "Python 3",
   "language": "python",
   "name": "python3"
  },
  "language_info": {
   "codemirror_mode": {
    "name": "ipython",
    "version": 3
   },
   "file_extension": ".py",
   "mimetype": "text/x-python",
   "name": "python",
   "nbconvert_exporter": "python",
   "pygments_lexer": "ipython3",
   "version": "3.7.4"
  }
 },
 "nbformat": 4,
 "nbformat_minor": 2
}
